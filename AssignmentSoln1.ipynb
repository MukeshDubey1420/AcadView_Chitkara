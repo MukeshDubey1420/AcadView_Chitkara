{
 "cells": [
  {
   "cell_type": "markdown",
   "metadata": {},
   "source": [
    "#  Github Assignment Solution"
   ]
  },
  {
   "cell_type": "markdown",
   "metadata": {},
   "source": [
    "## Steps To Follow..\n",
    "\n",
    "\n"
   ]
  },
  {
   "cell_type": "code",
   "execution_count": null,
   "metadata": {},
   "outputs": [],
   "source": [
    "\n",
    "\n",
    "\"\"\"\n",
    "step 1:\n",
    "Create a folder named Hello-git\n",
    "\n",
    "Step 2:\n",
    "Open git bash in the folder by doing right click in the folder and selecting Git Bash\n",
    "\n",
    "Step 3:\n",
    "Create a public repository in your Github account.\n",
    "\n",
    "Step 4:\n",
    "clone that repo in the folder you created in Step 1 using command \"git clone https:// yourusername/reponame.git\"\n",
    "\n",
    "Step 5:\n",
    "Create a text file in the cloned repository\n",
    "\n",
    "Step 6:\n",
    "Now run the following commands:\n",
    "i.) git status -> For checking the status\n",
    "ii.) git add . -> For adding all the new changes\n",
    "iii.) git commit -m \"Your commit message\" -> For commiting the code with a particular message\n",
    "iv.) git push origin master -> Pushing the changes to github\n",
    "\n",
    "\"\"\""
   ]
  },
  {
   "cell_type": "markdown",
   "metadata": {},
   "source": [
    "## Congratulations on completing your first assignment."
   ]
  }
 ],
 "metadata": {
  "kernelspec": {
   "display_name": "Python 3",
   "language": "python",
   "name": "python3"
  },
  "language_info": {
   "codemirror_mode": {
    "name": "ipython",
    "version": 3
   },
   "file_extension": ".py",
   "mimetype": "text/x-python",
   "name": "python",
   "nbconvert_exporter": "python",
   "pygments_lexer": "ipython3",
   "version": "3.6.0"
  }
 },
 "nbformat": 4,
 "nbformat_minor": 2
}
