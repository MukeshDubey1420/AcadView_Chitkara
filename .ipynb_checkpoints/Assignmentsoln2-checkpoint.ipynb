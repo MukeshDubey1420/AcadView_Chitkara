{
 "cells": [
  {
   "cell_type": "markdown",
   "metadata": {},
   "source": [
    "## Q.1- Print anything you want on screen."
   ]
  },
  {
   "cell_type": "code",
   "execution_count": 2,
   "metadata": {},
   "outputs": [
    {
     "name": "stdout",
     "output_type": "stream",
     "text": [
      "Hello World! I am Mukesh Dubey. Your Subject Matter Expert.\n"
     ]
    }
   ],
   "source": [
    "print(\"Hello World! I am Mukesh Dubey. Your Subject Matter Expert.\")"
   ]
  },
  {
   "cell_type": "markdown",
   "metadata": {},
   "source": [
    "## Q.2- Join two strings using '+'."
   ]
  },
  {
   "cell_type": "code",
   "execution_count": 3,
   "metadata": {},
   "outputs": [
    {
     "name": "stdout",
     "output_type": "stream",
     "text": [
      "Mr. Mukesh Dubey\n"
     ]
    }
   ],
   "source": [
    "Concat = \"Mr. \"+\"Mukesh Dubey\"\n",
    "print(Concat)\n"
   ]
  },
  {
   "cell_type": "markdown",
   "metadata": {},
   "source": [
    "## Q.3- Take the input of 3 variables x, y and z . Print their values on screen."
   ]
  },
  {
   "cell_type": "code",
   "execution_count": 4,
   "metadata": {},
   "outputs": [
    {
     "name": "stdout",
     "output_type": "stream",
     "text": [
      "Enter value of x: 25\n",
      "Enter value of y: 24\n",
      "Enter value of z: 23\n",
      "25 24 23\n"
     ]
    }
   ],
   "source": [
    "x = input(\"Enter value of x: \")\n",
    "y = input(\"Enter value of y: \")\n",
    "z = input(\"Enter value of z: \")\n",
    "print(x,y,z)"
   ]
  },
  {
   "cell_type": "markdown",
   "metadata": {},
   "source": [
    "## Q.4- Print “Let’s get started” on screen."
   ]
  },
  {
   "cell_type": "code",
   "execution_count": 5,
   "metadata": {},
   "outputs": [
    {
     "name": "stdout",
     "output_type": "stream",
     "text": [
      "Let's get started\n",
      "Let's get started\n"
     ]
    }
   ],
   "source": [
    "\"\"\"\n",
    "we Can do it by using any of approach\n",
    "\"\"\"\n",
    "\n",
    "print(\"Let's get started\")\n",
    "print('Let\\'s get started')"
   ]
  },
  {
   "cell_type": "markdown",
   "metadata": {},
   "source": [
    "## Q.5- Print the following values using placeholders.\n",
    " \n",
    " s=”Acadview”\n",
    " course=”Python”\n",
    " fees=5000"
   ]
  },
  {
   "cell_type": "code",
   "execution_count": 6,
   "metadata": {},
   "outputs": [
    {
     "name": "stdout",
     "output_type": "stream",
     "text": [
      "Acadview Python 5000\n"
     ]
    }
   ],
   "source": [
    "s = \"Acadview\"\n",
    "course = \"Python\"\n",
    "fees = 5000\n",
    "print(\"%s %s %d\"%(s,course,fees))"
   ]
  },
  {
   "cell_type": "markdown",
   "metadata": {},
   "source": [
    "## Q.6- Find the area of circle\n",
    " pi = 3.14\n",
    " Take radius as input from user\n",
    " Print the area of circle"
   ]
  },
  {
   "cell_type": "code",
   "execution_count": 7,
   "metadata": {},
   "outputs": [
    {
     "name": "stdout",
     "output_type": "stream",
     "text": [
      "Enter the radius: 2\n",
      "12.56\n"
     ]
    }
   ],
   "source": [
    "pi = 3.14\n",
    "r = int(input(\"Enter the radius: \"))\n",
    "print(pi*r*r)"
   ]
  },
  {
   "cell_type": "code",
   "execution_count": null,
   "metadata": {},
   "outputs": [],
   "source": []
  }
 ],
 "metadata": {
  "kernelspec": {
   "display_name": "Python 3",
   "language": "python",
   "name": "python3"
  },
  "language_info": {
   "codemirror_mode": {
    "name": "ipython",
    "version": 3
   },
   "file_extension": ".py",
   "mimetype": "text/x-python",
   "name": "python",
   "nbconvert_exporter": "python",
   "pygments_lexer": "ipython3",
   "version": "3.6.0"
  }
 },
 "nbformat": 4,
 "nbformat_minor": 2
}
